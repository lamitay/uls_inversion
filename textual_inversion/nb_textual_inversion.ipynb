{
 "cells": [
  {
   "cell_type": "markdown",
   "metadata": {},
   "source": [
    "*Set the configuration*"
   ]
  },
  {
   "cell_type": "code",
   "execution_count": 1,
   "metadata": {},
   "outputs": [
    {
     "name": "stderr",
     "output_type": "stream",
     "text": [
      "/home/lamitay/miniconda3/envs/uls_inversion/lib/python3.9/site-packages/tqdm/auto.py:21: TqdmWarning: IProgress not found. Please update jupyter and ipywidgets. See https://ipywidgets.readthedocs.io/en/stable/user_install.html\n",
      "  from .autonotebook import tqdm as notebook_tqdm\n"
     ]
    },
    {
     "name": "stdout",
     "output_type": "stream",
     "text": [
      "Configuration already exists at /home/lamitay/.cache/huggingface/accelerate/default_config.yaml, will not override. Run `accelerate config` manually or pass a different `save_location`.\n"
     ]
    },
    {
     "data": {
      "text/plain": [
       "False"
      ]
     },
     "execution_count": 1,
     "metadata": {},
     "output_type": "execute_result"
    }
   ],
   "source": [
    "from accelerate.utils import write_basic_config\n",
    "\n",
    "write_basic_config()"
   ]
  },
  {
   "cell_type": "markdown",
   "metadata": {},
   "source": [
    "*Copy this command and run it when in the correct directory*"
   ]
  },
  {
   "cell_type": "code",
   "execution_count": null,
   "metadata": {},
   "outputs": [],
   "source": [
    "export MODEL_NAME=\"runwayml/stable-diffusion-v1-5\"\n",
    "export DATA_DIR='/home/lamitay/vscode_projects/uls_inversion/textual_inversion/mixed_viral_data_6_images'\n",
    "export DATA_DIR='/home/lamitay/vscode_projects/uls_inversion/textual_inversion/viral_training_data'\n",
    "\n",
    "nohup accelerate launch textual_inversion/textual_inversion.py --pretrained_model_name_or_path=$MODEL_NAME --train_data_dir=$DATA_DIR --learnable_property=\"object\" --placeholder_token=\"<viral-pneumonia-ultrasound>\" --initializer_token=\"ultrasound\" --resolution=512 --train_batch_size=1 --gradient_accumulation_steps=4 --max_train_steps=3000 --learning_rate=5.0e-04 --scale_lr --checkpointing_steps=1000 --lr_scheduler=\"constant\" --lr_warmup_steps=0 --output_dir=\"textual_inversion_viral_training\" --validation_prompt=\"A <viral-pneumonia-ultrasound> image\" --num_validation_images=4 --validation_steps=100 > viral_training_data_textual_inversion_3000_ep.txt &"
   ]
  },
  {
   "cell_type": "code",
   "execution_count": null,
   "metadata": {},
   "outputs": [],
   "source": [
    "nohup accelerate launch textual_inversion/textual_inversion.py --pretrained_model_name_or_path=$MODEL_NAME --train_data_dir=$DATA_DIR --learnable_property=\"object\" --placeholder_token=\"<viral-pneumonia-ultrasound>\" --initializer_token=\"ultrasound\" --resolution=512 --train_batch_size=1 --gradient_accumulation_steps=4 --max_train_steps=3000 --learning_rate=5.0e-04 --scale_lr --checkpointing_steps=1000 --lr_scheduler=\"constant\" --lr_warmup_steps=0 --output_dir=\"textual_inversion_viral_training\" --validation_prompt=\"A <viral-pneumonia-ultrasound> image\" --num_validation_images=4 --validation_steps=100 --resume_from_checkpoint=\"checkpoint-2000\" > viral_training_data_textual_inversion_3000_ep.txt &"
   ]
  },
  {
   "cell_type": "code",
   "execution_count": 2,
   "metadata": {},
   "outputs": [
    {
     "ename": "SyntaxError",
     "evalue": "invalid syntax (1085257181.py, line 1)",
     "output_type": "error",
     "traceback": [
      "\u001b[0;36m  Cell \u001b[0;32mIn[2], line 1\u001b[0;36m\u001b[0m\n\u001b[0;31m    export MODEL_NAME=\"runwayml/stable-diffusion-v1-5\"\u001b[0m\n\u001b[0m           ^\u001b[0m\n\u001b[0;31mSyntaxError\u001b[0m\u001b[0;31m:\u001b[0m invalid syntax\n"
     ]
    }
   ],
   "source": [
    "export MODEL_NAME=\"runwayml/stable-diffusion-v1-5\"\n",
    "export DATA_DIR='/home/lamitay/vscode_projects/uls_inversion/textual_inversion/mixed_viral_data_3_images'\n",
    "\n",
    "accelerate launch textual_inversion/textual_inversion.py --pretrained_model_name_or_path=$MODEL_NAME --train_data_dir=$DATA_DIR --learnable_property=\"object\" --placeholder_token=\"<viral-pneumonia-ultrasound>\" --initializer_token=\"ultrasound\" --resolution=512 --train_batch_size=1 --gradient_accumulation_steps=4 --max_train_steps=3000 --learning_rate=5.0e-04 --scale_lr --checkpointing_steps=1000 --lr_scheduler=\"constant\" --lr_warmup_steps=0 --output_dir=\"textual_inversion_3_mixed_viral\" --validation_prompt=\"A <viral-pneumonia-ultrasound> image\" --num_validation_images=4 --validation_steps=100"
   ]
  },
  {
   "cell_type": "code",
   "execution_count": null,
   "metadata": {},
   "outputs": [],
   "source": [
    "nohup accelerate launch textual_inversion/textual_inversion.py --pretrained_model_name_or_path=$MODEL_NAME --train_data_dir=$DATA_DIR --learnable_property=\"object\" --placeholder_token=\"<viral-pneumonia-ultrasound>\" --initializer_token=\"ultrasound\" --resolution=512 --train_batch_size=1 --gradient_accumulation_steps=4 --max_train_steps=3000 --learning_rate=5.0e-04 --scale_lr --checkpointing_steps=500 --lr_scheduler=\"constant\" --lr_warmup_steps=0 --output_dir=\"textual_inversion_3_mixed_viral\" --validation_prompt=\"A <viral-pneumonia-ultrasound> image\" --num_validation_images=4 --validation_steps=100 --resume_from_checkpoint=\"checkpoint-1500\" > viral_3_imgs_textual_inversion_3000_ep.txt &"
   ]
  },
  {
   "cell_type": "markdown",
   "metadata": {},
   "source": [
    "6 images - style not object"
   ]
  },
  {
   "cell_type": "code",
   "execution_count": null,
   "metadata": {},
   "outputs": [],
   "source": [
    "export MODEL_NAME=\"runwayml/stable-diffusion-v1-5\"\n",
    "export DATA_DIR='/home/lamitay/vscode_projects/uls_inversion/textual_inversion/mixed_viral_data_6_images'\n",
    "nohup accelerate launch textual_inversion/textual_inversion.py --pretrained_model_name_or_path=$MODEL_NAME --train_data_dir=$DATA_DIR --learnable_property=\"style\" --placeholder_token=\"<viral-pneumonia-ultrasound>\" --initializer_token=\"ultrasound\" --resolution=512 --train_batch_size=1 --gradient_accumulation_steps=4 --max_train_steps=3000 --learning_rate=5.0e-04 --scale_lr --checkpointing_steps=1000 --lr_scheduler=\"constant\" --lr_warmup_steps=0 --output_dir=\"style_textual_inversion_6_mixed_viral\" --validation_prompt=\"A <viral-pneumonia-ultrasound> style ultraound image\" --num_validation_images=4 --validation_steps=100  > style_viral_6_imgs_textual_inversion_3000_ep.txt &"
   ]
  },
  {
   "cell_type": "code",
   "execution_count": null,
   "metadata": {},
   "outputs": [],
   "source": [
    "nohup accelerate launch textual_inversion/textual_inversion.py --pretrained_model_name_or_path=$MODEL_NAME --train_data_dir=$DATA_DIR --learnable_property=\"object\" --placeholder_token=\"<viral-pneumonia-ultrasound>\" --initializer_token=\"ultrasound\" --resolution=512 --train_batch_size=1 --gradient_accumulation_steps=4 --max_train_steps=3000 --learning_rate=5.0e-04 --scale_lr --checkpointing_steps=1000 --lr_scheduler=\"constant\" --lr_warmup_steps=0 --output_dir=\"textual_inversion_6_mixed_viral\" --validation_prompt=\"A <viral-pneumonia-ultrasound> image\" --num_validation_images=4 --validation_steps=100 --resume_from_checkpoint=\"checkpoint-1000\" > viral_6_imgs_textual_inversion_3000_ep.txt &"
   ]
  },
  {
   "cell_type": "code",
   "execution_count": null,
   "metadata": {},
   "outputs": [],
   "source": [
    "nohup accelerate launch textual_inversion/textual_inversion.py --pretrained_mod\n",
    "el_name_or_path=$MODEL_NAME --train_data_dir=$DATA_DIR --learnable_property=\"object\" --placeholder_token=\"<vir-pne>\" --initializer_token=\"ultrasound\" --resolution=512 --train_batch_size=1 --gradient_accumulation_steps=4 --max_train_steps=3000 --learning_rate=5.0e-04 --scale_lr --checkpointing_steps=500 --lr_scheduler=\"constant\" --lr_warmup_steps=0 --output_dir=\"vir-pne_5k_epochs_textual_inversion_3_mixed_viral\" --validation_prompt=\"A <vir-pne> image\" --num_validation_images=4 --validation_steps=100  > viral_3_imgs_textual_inversion_5000_ep.txt &"
   ]
  }
 ],
 "metadata": {
  "kernelspec": {
   "display_name": "uls_inversion",
   "language": "python",
   "name": "python3"
  },
  "language_info": {
   "codemirror_mode": {
    "name": "ipython",
    "version": 3
   },
   "file_extension": ".py",
   "mimetype": "text/x-python",
   "name": "python",
   "nbconvert_exporter": "python",
   "pygments_lexer": "ipython3",
   "version": "3.9.17"
  },
  "orig_nbformat": 4
 },
 "nbformat": 4,
 "nbformat_minor": 2
}
